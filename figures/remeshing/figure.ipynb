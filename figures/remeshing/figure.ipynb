{
 "cells": [
  {
   "cell_type": "markdown",
   "metadata": {},
   "source": [
    "Influence of remeshing on the result quality\n",
    "===================================="
   ]
  },
  {
   "cell_type": "code",
   "execution_count": null,
   "metadata": {},
   "outputs": [],
   "source": [
    "import sys\n",
    "import os\n",
    "sys.path.append(os.path.realpath(\"..\"))\n",
    "from preamble import *\n",
    "from io_ply import read_ply, write_ply\n",
    "from geometry import massmatrix_voronoi\n",
    "\n",
    "fontsize = 18\n",
    "recompute = True"
   ]
  },
  {
   "cell_type": "code",
   "execution_count": null,
   "metadata": {},
   "outputs": [],
   "source": [
    "# Compute voronoi cell areas\n",
    "masses = []\n",
    "for i, method in enumerate([\"reg\", \"base\", \"remesh_start\", \"remesh_middle\"]):\n",
    "    mesh = read_ply(os.path.join(basename, f\"res_{method}.ply\"))\n",
    "    v, f = mesh[\"vertices\"], mesh[\"faces\"].long()\n",
    "    masses.append(massmatrix_voronoi(v, f).cpu().numpy())\n",
    "\n",
    "vmax = max([np.max(M) for M in masses])\n",
    "vmin = min([np.min(M) for M in masses])\n",
    "norm = matplotlib.colors.Normalize(vmin=vmin, vmax=vmax)\n",
    "\n",
    "for i, method in enumerate([\"reg\", \"base\", \"remesh_start\", \"remesh_middle\"]):\n",
    "    mesh = read_ply(os.path.join(basename, f\"res_{method}.ply\"))\n",
    "    v, f = mesh[\"vertices\"].cpu().numpy(), mesh[\"faces\"].cpu().numpy()\n",
    "    c = matplotlib.cm.magma_r(norm(masses[i]))[:,:3]\n",
    "    write_ply(os.path.join(basename, f\"res_{method}.ply\"), v, f, vc=c, ascii=True)"
   ]
  },
  {
   "cell_type": "code",
   "execution_count": null,
   "metadata": {
    "scrolled": false
   },
   "outputs": [],
   "source": [
    "# Load wireframes\n",
    "wireframes = []\n",
    "res = 100\n",
    "for i, method in enumerate([\"reg\", \"base\", \"remesh_start\", \"remesh_middle\"]):\n",
    "    filename = os.path.join(basename, f\"res_{method}_wireframe.png\")\n",
    "    if not os.path.exists(filename) or recompute:\n",
    "        blender_render(os.path.join(basename, f\"res_{method}.ply\"), \n",
    "                       basename, \n",
    "                       25,\n",
    "                       8,\n",
    "                       res=res,\n",
    "                       wireframe=True,\n",
    "                       area = True)\n",
    "    wireframes.append(plt.imread(filename))"
   ]
  },
  {
   "cell_type": "code",
   "execution_count": null,
   "metadata": {
    "scrolled": false
   },
   "outputs": [],
   "source": [
    "base_size = 3\n",
    "n_rows = 2\n",
    "n_cols = 2\n",
    "H,W,_ = wireframes[0].shape\n",
    "w = H\n",
    "h = H-150\n",
    "aspect = w/h\n",
    "inset_w = 0.2*w\n",
    "fig = plt.figure(1, figsize=(n_cols * base_size* aspect, n_rows * base_size), constrained_layout=True)\n",
    "gs = fig.add_gridspec(n_rows,  n_cols, wspace=0.07,hspace=0.0)\n",
    "\n",
    "titles = [\"(a) Regularized\", \"(b) Ours, no remeshing\", \"(c) Ours, denser initial shape\", \"(d) Ours, with remeshing\"]\n",
    "\n",
    "sns.set_style('white')\n",
    "for i in range(n_rows):\n",
    "    for j in range(n_cols):\n",
    "        idx = i*n_rows + j\n",
    "        ax = fig.add_subplot(gs[i,j])\n",
    "        ax.tick_params(\n",
    "            axis='both',\n",
    "            which='both',\n",
    "            labelleft=False,\n",
    "            labelbottom=False)\n",
    "        im_cropped = np.flip(wireframes[idx][150:, (W-w)//2:(W+w)//2], axis=0)\n",
    "        ax.imshow(im_cropped, origin='lower', interpolation='none')\n",
    "        axins = ax.inset_axes([-0.3, 0, 0.5, 0.5])\n",
    "\n",
    "        axins.imshow(im_cropped, origin='lower', interpolation='none')\n",
    "        axins.tick_params(axis='both', which='both', labelleft=False, labelbottom=False)\n",
    "        x0 = int(w*0.3)\n",
    "        y0 = int(0.21*H)\n",
    "        x1, x2, y1, y2 = (x0, x0+inset_w, y0, y0+inset_w)\n",
    "        axins.set_xlim(x1, x2)\n",
    "        axins.set_ylim(y1, y2)\n",
    "        ax.indicate_inset_zoom(axins, edgecolor=\"black\", alpha=1)\n",
    "        sns.despine(ax=ax, left=True, bottom=True)\n",
    "        ax.set_xlabel(titles[idx], fontsize=fontsize)\n",
    "\n",
    "cbar = fig.colorbar(matplotlib.cm.ScalarMappable(norm=norm, cmap=matplotlib.cm.magma_r),\n",
    "             ax=fig.axes, orientation=\"horizontal\", shrink=0.8)\n",
    "cbar.ax.set_xlabel(\"Voronoi cell area\", fontsize=fontsize)\n",
    "cbar.ax.xaxis.set_ticks_position('top')\n",
    "\n",
    "plt.savefig(os.path.join(basename, \"remeshing.pdf\"), format='pdf', dpi=300, bbox_inches='tight', pad_inches=0.03)"
   ]
  },
  {
   "cell_type": "code",
   "execution_count": null,
   "metadata": {},
   "outputs": [],
   "source": []
  }
 ],
 "metadata": {
  "kernelspec": {
   "display_name": "Python 3",
   "language": "python",
   "name": "python3"
  },
  "language_info": {
   "codemirror_mode": {
    "name": "ipython",
    "version": 3
   },
   "file_extension": ".py",
   "mimetype": "text/x-python",
   "name": "python",
   "nbconvert_exporter": "python",
   "pygments_lexer": "ipython3",
   "version": "3.8.5"
  }
 },
 "nbformat": 4,
 "nbformat_minor": 4
}
