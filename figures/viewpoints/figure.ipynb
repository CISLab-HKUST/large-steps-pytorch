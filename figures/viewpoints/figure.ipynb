{
 "cells": [
  {
   "cell_type": "markdown",
   "metadata": {},
   "source": [
    "Influence of the number of viewpoints on the result quality\n",
    "================================================"
   ]
  },
  {
   "cell_type": "code",
   "execution_count": null,
   "metadata": {},
   "outputs": [],
   "source": [
    "import sys\n",
    "import os\n",
    "sys.path.append(os.path.realpath(\"..\"))\n",
    "from preamble import *\n",
    "from io_ply import read_ply, write_ply\n",
    "from geometry import massmatrix_voronoi\n",
    "sns.set(font_scale=1.1)\n",
    "sns.set_style({'axes.grid' : False})\n",
    "sns.set_style(\"white\")\n",
    "\n",
    "basename = os.path.join(OUTPUT_DIR, os.path.basename(os.getcwd()))\n",
    "recompute = True"
   ]
  },
  {
   "cell_type": "code",
   "execution_count": null,
   "metadata": {
    "scrolled": true
   },
   "outputs": [],
   "source": [
    "viewpoints = pd.read_csv(os.path.join(basename, \"viewpoints.csv\"), index_col=0).values[:,0]"
   ]
  },
  {
   "cell_type": "code",
   "execution_count": null,
   "metadata": {
    "scrolled": false
   },
   "outputs": [],
   "source": [
    "# Load wireframes\n",
    "wireframes = [[],[]]\n",
    "losses = [[], []]\n",
    "viewpoint = 9\n",
    "res = 100\n",
    "for num_vp in viewpoints:\n",
    "    for i, method in enumerate([\"reg\", \"smooth\"]):\n",
    "        filename = os.path.join(basename, f\"res_{num_vp:03d}_{method}_wireframe.png\")\n",
    "        if not os.path.exists(filename) or recompute:\n",
    "            blender_render(os.path.join(basename, f\"res_{num_vp:03d}_{method}.ply\"), \n",
    "                           basename, \n",
    "                           25,\n",
    "                           9,\n",
    "                           res=res,\n",
    "                           wireframe=True,\n",
    "                           ours=(i==1),\n",
    "                           baseline=(i==0))\n",
    "        wireframes[i].append(plt.imread(filename))\n",
    "        losses[i].append(pd.read_csv(os.path.join(basename, f\"loss_{num_vp:03d}_{method}.csv\"), index_col=0).values)"
   ]
  },
  {
   "cell_type": "code",
   "execution_count": null,
   "metadata": {},
   "outputs": [],
   "source": [
    "try:\n",
    "    from igl import hausdorff\n",
    "    hausdorff_distances = np.zeros((2, len(viewpoints)))\n",
    "    mesh = read_ply(os.path.join(basename, f\"ref.ply\"))\n",
    "    v_ref, f_ref = mesh[\"vertices\"].cpu().numpy(), mesh[\"faces\"].cpu().numpy()\n",
    "    for j in range(len(viewpoints)):\n",
    "        for i, method in enumerate([\"reg\", \"smooth\"]):\n",
    "            mesh = read_ply(os.path.join(basename, f\"res_{viewpoints[j]:03d}_{method}.ply\"))\n",
    "            v, f = mesh[\"vertices\"].cpu().numpy(), mesh[\"faces\"].cpu().numpy()\n",
    "            hausdorff_distances[i,j] = hausdorff(v_ref, f_ref, v, f) + hausdorff(v, f, v_ref, f_ref)\n",
    "except ModuleNotFoundError:\n",
    "    print(\"WARNING: could not import libigl. The Hausdorff distances will not be computed. Please install libigl if you want to compute them.\")\n",
    "    hausdorff_distances = None"
   ]
  },
  {
   "cell_type": "code",
   "execution_count": null,
   "metadata": {},
   "outputs": [],
   "source": [
    "fontsize = 18\n",
    "\n",
    "base_size = 3\n",
    "n_rows = 2\n",
    "n_cols = len(viewpoints)\n",
    "h,w,_ = wireframes[0][0].shape\n",
    "crop_ratio = 0.88\n",
    "crop_w = int(crop_ratio*h)\n",
    "\n",
    "fig = plt.figure(1, figsize=(n_cols * base_size* crop_ratio, n_rows * base_size*1.1), constrained_layout=True)\n",
    "gs = fig.add_gridspec(n_rows,  n_cols, wspace=0.075,hspace=0.0)\n",
    "\n",
    "for i, method in enumerate([\"Regularized\", r\"Ours ($\\lambda=19$)\"]):\n",
    "    for j in range(n_cols):\n",
    "        ax = fig.add_subplot(gs[i,j])\n",
    "        ax.tick_params(\n",
    "            axis='both',\n",
    "            which='both',\n",
    "            labelleft=False,\n",
    "            labelbottom=False)\n",
    "        \n",
    "        im = ax.imshow(wireframes[i][j][:,(w-crop_w)//2:(w+crop_w)//2])\n",
    "        if hausdorff_distances is not None:\n",
    "            ax.set_xlabel(f\"$H$={hausdorff_distances[i,j]:.3e}\", fontsize=fontsize)\n",
    "        if i == 1:\n",
    "            ax.set_title(f\"{viewpoints[j]}\", y=-0.3, fontsize=fontsize)\n",
    "        if j == 0:\n",
    "            ax.set_ylabel(method, fontsize=fontsize)\n",
    "\n",
    "        ax.tick_params(\n",
    "            axis='both',\n",
    "            which='both',\n",
    "            labelleft=False,\n",
    "            labelbottom=False)\n",
    "        sns.despine(ax=ax, left=True, bottom=True)\n",
    "\n",
    "arrow = matplotlib.patches.FancyArrowPatch((0,-1), (1,-1),fc = \"g\", connectionstyle=\"arc3,rad=0.2\", arrowstyle='simple')\n",
    "fig.patches.append(arrow)\n",
    "\n",
    "arrow = matplotlib.patches.FancyArrowPatch(\n",
    "    (0.05,-0.05), (0.95,-0.05), transform=fig.transFigure, fc='black', mutation_scale = 40.)\n",
    "fig.patches.append(arrow)\n",
    "\n",
    "fig.suptitle('Number of viewpoints', y=-0.1, fontsize=fontsize)\n",
    "plt.savefig(os.path.join(basename, \"viewpoints.pdf\"), format='pdf', dpi=300, bbox_inches='tight', pad_inches=0.005)"
   ]
  },
  {
   "cell_type": "code",
   "execution_count": null,
   "metadata": {},
   "outputs": [],
   "source": []
  }
 ],
 "metadata": {
  "kernelspec": {
   "display_name": "Python 3",
   "language": "python",
   "name": "python3"
  },
  "language_info": {
   "codemirror_mode": {
    "name": "ipython",
    "version": 3
   },
   "file_extension": ".py",
   "mimetype": "text/x-python",
   "name": "python",
   "nbconvert_exporter": "python",
   "pygments_lexer": "ipython3",
   "version": "3.8.5"
  }
 },
 "nbformat": 4,
 "nbformat_minor": 4
}
