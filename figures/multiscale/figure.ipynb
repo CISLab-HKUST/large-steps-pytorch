{
 "cells": [
  {
   "cell_type": "markdown",
   "metadata": {},
   "source": [
    "Multiscale optimization\n",
    "==================="
   ]
  },
  {
   "cell_type": "code",
   "execution_count": null,
   "metadata": {},
   "outputs": [],
   "source": [
    "import sys\n",
    "import os\n",
    "sys.path.append(os.path.realpath(\"../..\"))\n",
    "from scripts.preamble import *\n",
    "recompute = True"
   ]
  },
  {
   "cell_type": "code",
   "execution_count": null,
   "metadata": {
    "scrolled": false
   },
   "outputs": [],
   "source": [
    "remesh_steps = pd.read_csv(os.path.join(basename, \"remesh_steps.csv\"), index_col=0).values[:,0]"
   ]
  },
  {
   "cell_type": "code",
   "execution_count": null,
   "metadata": {
    "scrolled": false
   },
   "outputs": [],
   "source": [
    "# Load wireframes\n",
    "wireframes = []\n",
    "renderings = []\n",
    "vp = 6\n",
    "collection = 25\n",
    "res = 100\n",
    "for i in range(len(remesh_steps)):\n",
    "    filename = os.path.join(basename, f\"res_{i:02d}_wireframe.png\")\n",
    "    if not os.path.exists(filename) or recompute:\n",
    "        blender_render(os.path.join(basename, f\"res_{i:02d}.ply\"), \n",
    "                       basename, \n",
    "                       collection,\n",
    "                       vp,\n",
    "                       res=res,\n",
    "                       ours=True,\n",
    "                       wireframe=True,\n",
    "                       t=0.006)\n",
    "    wireframes.append(plt.imread(filename))"
   ]
  },
  {
   "cell_type": "code",
   "execution_count": null,
   "metadata": {},
   "outputs": [],
   "source": [
    "fontsize = 36\n",
    "sns.set_style('white')\n",
    "base_size = 3\n",
    "n_rows = 1\n",
    "n_cols = len(wireframes)\n",
    "h,w,_ = wireframes[0].shape\n",
    "crops = np.zeros((len(wireframes), 2), dtype=np.int32)\n",
    "for i, wf in enumerate(wireframes):\n",
    "    nonzero = np.where(wf[..., 3] > 0)[1]\n",
    "    crops[i] = (np.min(nonzero), np.max(nonzero))\n",
    "\n",
    "widths = (crops[:,1] - crops[:,0]) / h\n",
    "total_w = np.sum(widths)\n",
    "\n",
    "fig = plt.figure(1, figsize=(total_w*base_size, n_rows * base_size), constrained_layout=True)\n",
    "gs = fig.add_gridspec(n_rows,  n_cols, wspace=0.0,hspace=0.0, width_ratios=widths)\n",
    "\n",
    "for j in range(n_cols):\n",
    "    ax = fig.add_subplot(gs[j])\n",
    "\n",
    "    im = ax.imshow(wireframes[j][:,crops[j,0]:crops[j,1]], interpolation='none')\n",
    "\n",
    "    ax.tick_params(\n",
    "        axis='both',\n",
    "        which='both',\n",
    "        labelleft=False,\n",
    "        labelbottom=False)\n",
    "    sns.despine(ax=ax, left=True, bottom=True)\n",
    "\n",
    "arrow = matplotlib.patches.FancyArrowPatch(\n",
    "    (0.05,0), (0.95,0), transform=fig.transFigure, fc='black', mutation_scale = 40.)\n",
    "fig.patches.append(arrow)\n",
    "\n",
    "fig.suptitle('Time', y=-0.05, fontsize=fontsize)\n",
    "plt.savefig(os.path.join(basename, \"multiscale.pdf\"), format='pdf', dpi=300, bbox_inches='tight', pad_inches=0.005)"
   ]
  },
  {
   "cell_type": "code",
   "execution_count": null,
   "metadata": {},
   "outputs": [],
   "source": []
  }
 ],
 "metadata": {
  "kernelspec": {
   "display_name": "Python 3",
   "language": "python",
   "name": "python3"
  },
  "language_info": {
   "codemirror_mode": {
    "name": "ipython",
    "version": 3
   },
   "file_extension": ".py",
   "mimetype": "text/x-python",
   "name": "python",
   "nbconvert_exporter": "python",
   "pygments_lexer": "ipython3",
   "version": "3.8.5"
  }
 },
 "nbformat": 4,
 "nbformat_minor": 4
}
