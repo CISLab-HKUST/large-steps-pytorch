{
 "cells": [
  {
   "cell_type": "markdown",
   "metadata": {},
   "source": [
    "Failure case of regularization\n",
    "========================"
   ]
  },
  {
   "cell_type": "code",
   "execution_count": null,
   "metadata": {},
   "outputs": [],
   "source": [
    "import sys\n",
    "import os\n",
    "sys.path.append(os.path.realpath(\"..\"))\n",
    "from preamble import *\n",
    "\n",
    "sns.set()\n",
    "sns.set(font_scale=1.1)\n",
    "recompute = True\n",
    "fontsize = 18\n",
    "log = False"
   ]
  },
  {
   "cell_type": "code",
   "execution_count": null,
   "metadata": {
    "scrolled": false
   },
   "outputs": [],
   "source": [
    "weights = pd.read_csv(os.path.join(basename, \"weights.csv\"), index_col=0)[\"weight\"].values"
   ]
  },
  {
   "cell_type": "code",
   "execution_count": null,
   "metadata": {},
   "outputs": [],
   "source": [
    "reg_losses = []\n",
    "for i in range(len(weights)):\n",
    "    reg_losses.append(pd.read_csv(os.path.join(basename, f\"loss_reg_{i}.csv\"), index_col=0))"
   ]
  },
  {
   "cell_type": "code",
   "execution_count": null,
   "metadata": {},
   "outputs": [],
   "source": [
    "smooth_loss = pd.read_csv(os.path.join(basename, \"loss_smooth.csv\"), index_col=0)"
   ]
  },
  {
   "cell_type": "code",
   "execution_count": null,
   "metadata": {},
   "outputs": [],
   "source": [
    "save_steps = pd.read_csv(os.path.join(basename, \"save_steps.csv\"), index_col=0)[\"save_steps\"].values"
   ]
  },
  {
   "cell_type": "code",
   "execution_count": null,
   "metadata": {},
   "outputs": [],
   "source": [
    "names = [\"smooth\", *[f\"reg_{i}\"for i in range(len(weights))]]\n",
    "imgs = []\n",
    "\n",
    "for i, name in enumerate(names):\n",
    "    wireframes = []\n",
    "    for j in save_steps:\n",
    "        img_name = os.path.join(basename, f\"{name}_{j:05d}_wireframe.png\")\n",
    "        obj_name = os.path.join(basename, f\"{name}_{j:05d}.ply\")\n",
    "        if not os.path.exists(img_name) or recompute:\n",
    "            blender_render(obj_name, \n",
    "                           basename, \n",
    "                           14,\n",
    "                           14,\n",
    "                           res=100,\n",
    "                           wireframe=True,\n",
    "                           ours=(i==0),\n",
    "                           baseline=(i!=0))\n",
    "        wireframes.append(plt.imread(img_name))\n",
    "    imgs.append(wireframes)"
   ]
  },
  {
   "cell_type": "code",
   "execution_count": null,
   "metadata": {},
   "outputs": [],
   "source": [
    "save_steps[-1] = 25000"
   ]
  },
  {
   "cell_type": "code",
   "execution_count": null,
   "metadata": {
    "scrolled": false
   },
   "outputs": [],
   "source": [
    "base_size = 3\n",
    "n_rows = len(reg_losses)+1\n",
    "n_cols = len(save_steps)+1\n",
    "aspect = 1\n",
    "fontsize = 24\n",
    "h,w,_ = imgs[0][0].shape\n",
    "widths = np.ones(n_cols)\n",
    "widths[-1] = 1.5\n",
    "\n",
    "fig = plt.figure(1, figsize=(n_cols * base_size* aspect, n_rows * base_size*1), constrained_layout=True)\n",
    "gs = fig.add_gridspec(n_rows,  n_cols, wspace=0.075,hspace=0.0, width_ratios=widths)\n",
    "\n",
    "\n",
    "with sns.axes_style('white'):\n",
    "    for j, step in enumerate(save_steps):\n",
    "        ax = fig.add_subplot(gs[0, j])\n",
    "        ax.imshow(imgs[0][j][:, (w-h)//2:(h-w)//2], interpolation='none')\n",
    "        ax.axes.get_xaxis().set_ticklabels([])\n",
    "        ax.axes.get_yaxis().set_ticklabels([])\n",
    "        ax.axes.get_xaxis().set_ticks([])\n",
    "        ax.axes.get_yaxis().set_ticks([])\n",
    "        sns.despine(ax=ax, left=True, bottom=True)\n",
    "        if j == 0:\n",
    "            ax.set_ylabel(rf\"Ours ($\\lambda$=99)\", fontsize=fontsize)\n",
    "\n",
    "with sns.axes_style('darkgrid'):\n",
    "    ax = fig.add_subplot(gs[0, -1])\n",
    "    ax.plot(1e2*smooth_loss[\"reg_loss\"].values, label=r\"Laplacian loss ($\\times 10^2$)\")\n",
    "    ax.plot(smooth_loss[\"im_loss\"].values, label=\"Rendering loss\")\n",
    "    if log:\n",
    "        ax.set_yscale('log')\n",
    "    ax.set_ylabel(\"Loss\", fontsize=2*fontsize//3)\n",
    "    ax.set_xlabel(\"Steps\", fontsize=2*fontsize//3)\n",
    "    ax.legend(fontsize=2*fontsize//3)\n",
    "    ax.set_yscale('log')\n",
    "    ax.set_ylim((5e-6,1))\n",
    "for i in range(len(reg_losses)):\n",
    "    with sns.axes_style('white'):\n",
    "        for j, step in enumerate(save_steps):\n",
    "            ax = fig.add_subplot(gs[i+1, j])\n",
    "            ax.imshow(imgs[i+1][j][:, (w-h)//2:(h-w)//2], interpolation='none')\n",
    "            ax.axes.get_xaxis().set_ticklabels([])\n",
    "            ax.axes.get_yaxis().set_ticklabels([])\n",
    "            ax.axes.get_xaxis().set_ticks([])\n",
    "            ax.axes.get_yaxis().set_ticks([])\n",
    "            sns.despine(ax=ax, left=True, bottom=True)\n",
    "            if i == len(reg_losses)-1:\n",
    "                ax.set_title(fr\"${save_steps[j]}$\", y=-0.5, fontsize=fontsize)\n",
    "            if j == 0:\n",
    "                ax.set_ylabel(rf\"$\\lambda = {int(weights[i])}$\", fontsize=fontsize)\n",
    "        \n",
    "    with sns.axes_style('darkgrid'):\n",
    "        ax = fig.add_subplot(gs[i+1, -1])\n",
    "        ax.plot(1e2*reg_losses[i][\"reg_loss\"].values, label=r\"Laplacian loss ($\\times 10^2$)\")\n",
    "        ax.plot(reg_losses[i][\"im_loss\"].values, label=\"Rendering loss\")\n",
    "        ax.set_yscale('log')\n",
    "        if log:\n",
    "            ax.set_yscale('log')\n",
    "        ax.set_ylabel(\"Loss\", fontsize=2*fontsize//3)\n",
    "        ax.set_xlabel(\"Steps\", fontsize=2*fontsize//3)\n",
    "        ax.set_ylim((5e-6,1))\n",
    "        if i == len(reg_losses)-1:\n",
    "            ax.set_title(\"Loss\", y=-0.5, fontsize=fontsize)\n",
    "\n",
    "arrow = matplotlib.patches.FancyArrowPatch(\n",
    "    (0.05,-0.02), (0.75,-0.02), transform=fig.transFigure,fc='black', mutation_scale = 40.)\n",
    "fig.patches.append(arrow)\n",
    "\n",
    "fig.suptitle(\"Iteration\", fontsize=fontsize, y=-0.05, x=0.4)\n",
    "plt.savefig(os.path.join(basename, \"reg_fail.pdf\"), format='pdf', dpi=300, bbox_inches='tight', pad_inches=0.05)"
   ]
  },
  {
   "cell_type": "code",
   "execution_count": null,
   "metadata": {},
   "outputs": [],
   "source": []
  },
  {
   "cell_type": "code",
   "execution_count": null,
   "metadata": {},
   "outputs": [],
   "source": []
  }
 ],
 "metadata": {
  "kernelspec": {
   "display_name": "Python 3",
   "language": "python",
   "name": "python3"
  },
  "language_info": {
   "codemirror_mode": {
    "name": "ipython",
    "version": 3
   },
   "file_extension": ".py",
   "mimetype": "text/x-python",
   "name": "python",
   "nbconvert_exporter": "python",
   "pygments_lexer": "ipython3",
   "version": "3.8.5"
  }
 },
 "nbformat": 4,
 "nbformat_minor": 4
}
