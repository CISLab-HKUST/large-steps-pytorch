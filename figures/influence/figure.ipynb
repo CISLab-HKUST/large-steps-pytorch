{
 "cells": [
  {
   "cell_type": "markdown",
   "metadata": {},
   "source": [
    "Influence of lambda on the result quality\n",
    "================================="
   ]
  },
  {
   "cell_type": "code",
   "execution_count": null,
   "metadata": {},
   "outputs": [],
   "source": [
    "import sys\n",
    "import os\n",
    "sys.path.append(os.path.realpath(\"../..\"))\n",
    "from scripts.preamble import *\n",
    "from scripts.io_ply import read_ply \n",
    "\n",
    "sns.set_style({'axes.grid' : False})\n",
    "recompute = True\n",
    "fontsize = 18"
   ]
  },
  {
   "cell_type": "code",
   "execution_count": null,
   "metadata": {},
   "outputs": [],
   "source": [
    "basename = os.path.join(OUTPUT_DIR, os.path.basename(os.getcwd()))\n",
    "alphas = pd.read_csv(os.path.join(basename, \"alphas.csv\"), index_col=0).iloc[:].values[:,0]\n",
    "lambdas = alphas / (1-alphas)"
   ]
  },
  {
   "cell_type": "code",
   "execution_count": null,
   "metadata": {
    "scrolled": false
   },
   "outputs": [],
   "source": [
    "# Load wireframes\n",
    "wireframes = []\n",
    "for i in range(len(lambdas)):\n",
    "    filename = os.path.join(basename, f\"res_{i:02d}_wireframe.png\")\n",
    "    if not os.path.exists(filename) or recompute:\n",
    "        blender_render(os.path.join(basename, f\"res_{i:02d}.ply\"), \n",
    "                       basename, \n",
    "                       14,\n",
    "                       6,\n",
    "                       wireframe=True)\n",
    "    wireframes.append(plt.imread(filename))"
   ]
  },
  {
   "cell_type": "code",
   "execution_count": null,
   "metadata": {},
   "outputs": [],
   "source": [
    "try:\n",
    "    from igl import hausdorff\n",
    "    hausdorff_distances = np.zeros(len(lambdas))\n",
    "    mesh = read_ply(os.path.join(basename, f\"ref.ply\"))\n",
    "    v_ref, f_ref = mesh[\"vertices\"].cpu().numpy(), mesh[\"faces\"].cpu().numpy()\n",
    "    for i in range(len(lambdas)):\n",
    "        mesh = read_ply(os.path.join(basename, f\"res_{i:02d}.ply\"))\n",
    "        v, f = mesh[\"vertices\"].cpu().numpy(), mesh[\"faces\"].cpu().numpy()\n",
    "        hausdorff_distances[i] = 0.5 * (hausdorff(v_ref, f_ref, v, f) + hausdorff(v, f, v_ref, f_ref))\n",
    "except ModuleNotFoundError:\n",
    "    print(\"WARNING: could not import libigl. The Hausdorff distances will not be computed. Please install libigl if you want to compute them.\")\n",
    "    hausdorff_distances = None"
   ]
  },
  {
   "cell_type": "code",
   "execution_count": null,
   "metadata": {
    "scrolled": false
   },
   "outputs": [],
   "source": [
    "base_size = 3\n",
    "flat = False\n",
    "h_dist = True\n",
    "if flat:\n",
    "    n_rows = 1\n",
    "    n_cols = diffs.shape[0]\n",
    "else:\n",
    "    n_cols = 4\n",
    "    n_rows = len(wireframes) // n_cols\n",
    "H,W,_ = wireframes[0].shape\n",
    "w = int(0.84*H)\n",
    "aspect = w/H\n",
    "fontsize = 24\n",
    "\n",
    "fig = plt.figure(1, figsize=(n_cols * base_size* aspect, n_rows * base_size*1.3), constrained_layout=True)\n",
    "gs = fig.add_gridspec(n_rows,  n_cols, wspace=0.075,hspace=0.0)\n",
    "\n",
    "for i in range(n_rows):\n",
    "    for j in range(n_cols):\n",
    "        ax = fig.add_subplot(gs[i,j])\n",
    "        ax.tick_params(\n",
    "            axis='both',\n",
    "            which='both',\n",
    "            labelleft=False,\n",
    "            labelbottom=False)\n",
    "        \n",
    "        idx = i*n_cols+j\n",
    "        rnd = wireframes[idx].copy()\n",
    "        rnd[rnd[..., -1] == 0] = 1\n",
    "        rnd = rnd*rnd[..., -1][..., None] + (1-rnd[..., -1][..., None]) # Alpha\n",
    "        rnd = rnd[..., :3]\n",
    "        \n",
    "        im = ax.imshow(rnd[:, (W-w)//2:(W+w)//2],)\n",
    "        if hausdorff_distances is not None:\n",
    "            ax.set_xlabel(f\"$H$={hausdorff_distances[idx]:.3e}\", fontsize=2*fontsize//3)\n",
    "        if flat:\n",
    "            ax.set_title(fr\"${lambdas[idx]:.1f}$\", y=-0.3, fontsize=fontsize)\n",
    "        else:\n",
    "            ax.set_title(fr\"${lambdas[idx]:.1f}$\", y=-0.3, fontsize=fontsize)\n",
    "\n",
    "if flat:\n",
    "    arrow = matplotlib.patches.FancyArrowPatch(\n",
    "    (0.05,-0.05), (0.95,-0.05), transform=fig.transFigure,fc='black', mutation_scale = 40.)\n",
    "    fig.patches.append(arrow)\n",
    "    fig.suptitle(r\"$\\lambda$\", y=-0.1, fontsize=fontsize)\n",
    "else:\n",
    "    arrow = matplotlib.patches.FancyArrowPatch(\n",
    "    (0.05,0.48), (0.95,0.48), transform=fig.transFigure,fc='black', mutation_scale = 40.)\n",
    "    fig.patches.append(arrow)\n",
    "    plt.figtext(0.5,0.45, r\"$\\lambda$\", ha=\"center\", va=\"top\", fontsize=fontsize)\n",
    "    arrow = matplotlib.patches.FancyArrowPatch(\n",
    "    (0.05,-0.03), (0.95,-0.03), transform=fig.transFigure,fc='black', mutation_scale = 40.)\n",
    "    fig.patches.append(arrow)\n",
    "    fig.suptitle(r\"$\\lambda$\", y=-0.06, fontsize=fontsize)\n",
    "\n",
    "plt.savefig(os.path.join(basename, \"influence.pdf\"), format='pdf', dpi=300, bbox_inches='tight', pad_inches=0.005)"
   ]
  },
  {
   "cell_type": "code",
   "execution_count": null,
   "metadata": {},
   "outputs": [],
   "source": []
  },
  {
   "cell_type": "code",
   "execution_count": null,
   "metadata": {},
   "outputs": [],
   "source": []
  },
  {
   "cell_type": "code",
   "execution_count": null,
   "metadata": {},
   "outputs": [],
   "source": []
  }
 ],
 "metadata": {
  "kernelspec": {
   "display_name": "Python 3",
   "language": "python",
   "name": "python3"
  },
  "language_info": {
   "codemirror_mode": {
    "name": "ipython",
    "version": 3
   },
   "file_extension": ".py",
   "mimetype": "text/x-python",
   "name": "python",
   "nbconvert_exporter": "python",
   "pygments_lexer": "ipython3",
   "version": "3.8.5"
  }
 },
 "nbformat": 4,
 "nbformat_minor": 4
}
